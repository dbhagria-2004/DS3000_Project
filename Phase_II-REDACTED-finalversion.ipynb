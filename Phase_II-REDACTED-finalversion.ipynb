{
 "cells": [
  {
   "cell_type": "markdown",
   "id": "067725ce-0ce7-412c-a649-d8061b90f125",
   "metadata": {},
   "source": [
    "# Phase II: Data Curation, Exploratory Analysis and Plotting (5\\%)\n",
    "\n",
    "### Team Members:\n",
    "- Deepanshu Bhagria \n",
    "- Ishaan Tayal\n",
    "- Ignacio Torner Toledo\n",
    "- Dev Patel\n",
    "\n",
    "\n",
    "## Part 1: \n",
    "(1%) Expresses the central motivation of the project and explains the (at least) two key questions to be explored. Gives a summary of the data processing pipeline so a technical expert can easily follow along."
   ]
  },
  {
   "cell_type": "markdown",
   "id": "cfce0bc1-c5eb-4739-81e9-450e8511770a",
   "metadata": {},
   "source": [
    "## (A) Problem Motivation \n",
    "\n",
    "The stock market changes every day, and investors often try to predict whether prices will rise or fall. While stock prices are influenced by many factors, we believe that historical trading data still contains valuable patterns that can help make predictions. In this project, we will use Apple’s (AAPL) historical stock data to explore whether features such as daily percent change, trading volume, and moving averages can help forecast the next day’s closing price.\n",
    "\n",
    "### The key questions we aim to answer are:\n",
    "\n",
    "##### 1) Which historical features (e.g., percent change, volume, moving averages) are most predictive of tomorrow’s closing price?\n",
    "\n",
    "##### 2) How accurately can we predict the next day’s closing price using historical data?\n",
    "\n",
    "### Motivating sources:\n",
    "\n",
    "Yahoo Finance. \"AAPL Historical Data.\" Yahoo Finance, https://finance.yahoo.com/quote/AAPL/history\n",
    ". Accessed 26 Oct. 2025.\n",
    "\n",
    "Investopedia. \"Technical Analysis of Stocks.\" Investopedia, https://www.investopedia.com/terms/t/technicalanalysis.asp\n",
    ". Accessed 26 Oct. 2025."
   ]
  },
  {
   "cell_type": "markdown",
   "id": "bc29bf1b-03f9-491d-b828-16a9a5064154",
   "metadata": {},
   "source": [
    "## (B) Summary of the Data Processing Pipeline\n",
    "\n",
    "1) Collect data: Retrieve historical stock data using the Yahoo Finance API (yfinance).\n",
    "\n",
    "2) Clean the data: Handle missing values, filter relevant columns, and compute derived features like moving averages and daily percent changes.\n",
    "\n",
    "3) Visualize trends: Use plotting libraries like Matplotlib, Seaborn, and Plotly to explore patterns and relationships in the data.\n",
    "\n",
    "4) Prepare for modeling: Select relevant features and split the data into training and testing sets for predictive modeling.\n",
    "\n",
    "To process the data, we will first acquire Apple’s historical stock data using the yfinance API. After collection, we will clean the data by removing missing or inconsistent values, computing features like daily percent change and moving averages, and converting dates to a usable format. Next, we will visualize trends in the stock data, such as price changes over time, correlations with trading volume, and other patterns that may inform predictions. Finally, the cleaned data will be prepared for predictive modeling, where we will train and test models to forecast next-day closing prices. This workflow will help us answer our key questions and assess the potential of historical stock features in predicting market movements."
   ]
  },
  {
   "cell_type": "markdown",
   "id": "6a893bc8-7b11-4397-bef9-8a6993fdcf93",
   "metadata": {},
   "source": [
    "## Part 2: \n",
    "(2\\%) Obtains, cleans, and merges all data sources involved in the project."
   ]
  },
  {
   "cell_type": "code",
   "execution_count": 24,
   "id": "1c268189-0b56-4e3d-8e45-690ef6ba0666",
   "metadata": {},
   "outputs": [
    {
     "name": "stderr",
     "output_type": "stream",
     "text": [
      "/var/folders/v4/rl51r6ks60z5gjpkw48kqr7h0000gn/T/ipykernel_79209/197221887.py:7: FutureWarning: YF.download() has changed argument auto_adjust default to True\n",
      "  df = yf.download('AAPL', start='2015-01-01', end='2025-10-25')\n",
      "[*********************100%***********************]  1 of 1 completed\n"
     ]
    },
    {
     "data": {
      "text/html": [
       "<div>\n",
       "<style scoped>\n",
       "    .dataframe tbody tr th:only-of-type {\n",
       "        vertical-align: middle;\n",
       "    }\n",
       "\n",
       "    .dataframe tbody tr th {\n",
       "        vertical-align: top;\n",
       "    }\n",
       "\n",
       "    .dataframe thead tr th {\n",
       "        text-align: left;\n",
       "    }\n",
       "\n",
       "    .dataframe thead tr:last-of-type th {\n",
       "        text-align: right;\n",
       "    }\n",
       "</style>\n",
       "<table border=\"1\" class=\"dataframe\">\n",
       "  <thead>\n",
       "    <tr>\n",
       "      <th>Price</th>\n",
       "      <th>Close</th>\n",
       "      <th>High</th>\n",
       "      <th>Low</th>\n",
       "      <th>Open</th>\n",
       "      <th>Volume</th>\n",
       "    </tr>\n",
       "    <tr>\n",
       "      <th>Ticker</th>\n",
       "      <th>AAPL</th>\n",
       "      <th>AAPL</th>\n",
       "      <th>AAPL</th>\n",
       "      <th>AAPL</th>\n",
       "      <th>AAPL</th>\n",
       "    </tr>\n",
       "    <tr>\n",
       "      <th>Date</th>\n",
       "      <th></th>\n",
       "      <th></th>\n",
       "      <th></th>\n",
       "      <th></th>\n",
       "      <th></th>\n",
       "    </tr>\n",
       "  </thead>\n",
       "  <tbody>\n",
       "    <tr>\n",
       "      <th>2015-01-02</th>\n",
       "      <td>24.261047</td>\n",
       "      <td>24.729270</td>\n",
       "      <td>23.821672</td>\n",
       "      <td>24.718174</td>\n",
       "      <td>212818400</td>\n",
       "    </tr>\n",
       "    <tr>\n",
       "      <th>2015-01-05</th>\n",
       "      <td>23.577578</td>\n",
       "      <td>24.110154</td>\n",
       "      <td>23.391177</td>\n",
       "      <td>24.030267</td>\n",
       "      <td>257142000</td>\n",
       "    </tr>\n",
       "    <tr>\n",
       "      <th>2015-01-06</th>\n",
       "      <td>23.579798</td>\n",
       "      <td>23.839428</td>\n",
       "      <td>23.218089</td>\n",
       "      <td>23.641931</td>\n",
       "      <td>263188400</td>\n",
       "    </tr>\n",
       "    <tr>\n",
       "      <th>2015-01-07</th>\n",
       "      <td>23.910439</td>\n",
       "      <td>24.010296</td>\n",
       "      <td>23.677436</td>\n",
       "      <td>23.788389</td>\n",
       "      <td>160423600</td>\n",
       "    </tr>\n",
       "    <tr>\n",
       "      <th>2015-01-08</th>\n",
       "      <td>24.829126</td>\n",
       "      <td>24.886823</td>\n",
       "      <td>24.121244</td>\n",
       "      <td>24.238856</td>\n",
       "      <td>237458000</td>\n",
       "    </tr>\n",
       "  </tbody>\n",
       "</table>\n",
       "</div>"
      ],
      "text/plain": [
       "Price           Close       High        Low       Open     Volume\n",
       "Ticker           AAPL       AAPL       AAPL       AAPL       AAPL\n",
       "Date                                                             \n",
       "2015-01-02  24.261047  24.729270  23.821672  24.718174  212818400\n",
       "2015-01-05  23.577578  24.110154  23.391177  24.030267  257142000\n",
       "2015-01-06  23.579798  23.839428  23.218089  23.641931  263188400\n",
       "2015-01-07  23.910439  24.010296  23.677436  23.788389  160423600\n",
       "2015-01-08  24.829126  24.886823  24.121244  24.238856  237458000"
      ]
     },
     "execution_count": 24,
     "metadata": {},
     "output_type": "execute_result"
    }
   ],
   "source": [
    "# Importing Necessary Libraries\n",
    "import yfinance as yf\n",
    "import pandas as pd\n",
    "\n",
    "\n",
    "#Loading the pre-processes data\n",
    "df = yf.download('AAPL', start='2015-01-01', end='2025-10-25')\n",
    "df.head()"
   ]
  },
  {
   "cell_type": "code",
   "execution_count": 25,
   "id": "de4c2d42",
   "metadata": {},
   "outputs": [],
   "source": [
    "\n",
    "def clean_stock_data(df):\n",
    "    \"\"\"\n",
    "    Cleans stock data from yfinance:\n",
    "    - Flattens MultiIndex columns\n",
    "    - Resets index to make 'Date' a column\n",
    "    - Drops missing values\n",
    "    - Adds daily percent change and moving averages (5-day and 20-day)\n",
    "    \"\"\"\n",
    "    \n",
    "    # makes a copy of df\n",
    "    df = df.copy()\n",
    "    \n",
    "    # Flatten MultiIndex columns\n",
    "    if isinstance(df.columns, pd.MultiIndex):\n",
    "        df.columns = [col[0] if col[1] else col[0] for col in df.columns]\n",
    "    \n",
    "    # Reset index so Date is a column\n",
    "    df.reset_index(inplace=True)\n",
    "    \n",
    "    # Drop any rows with missing values\n",
    "    df.dropna(subset=['Close', 'Volume'], inplace=True)\n",
    "    \n",
    "    # Convert Date to datetime\n",
    "    df['Date'] = pd.to_datetime(df['Date'])\n",
    "    \n",
    "    # Derived features\n",
    "    df['Daily_Change'] = df['Close'].pct_change() * 100\n",
    "    df['MA_5'] = df['Close'].rolling(5).mean()\n",
    "    df['MA_20'] = df['Close'].rolling(20).mean()\n",
    "    \n",
    "    # Drop rows with NaN from rolling calculations\n",
    "    df.dropna(inplace=True)\n",
    "    \n",
    "    return df"
   ]
  },
  {
   "cell_type": "code",
   "execution_count": 26,
   "id": "c15d6f7b",
   "metadata": {},
   "outputs": [
    {
     "name": "stderr",
     "output_type": "stream",
     "text": [
      "/var/folders/v4/rl51r6ks60z5gjpkw48kqr7h0000gn/T/ipykernel_79209/2847905695.py:3: FutureWarning: YF.download() has changed argument auto_adjust default to True\n",
      "  df = yf.download('AAPL', start='2015-01-01', end='2025-10-25')\n",
      "[*********************100%***********************]  1 of 1 completed"
     ]
    },
    {
     "name": "stdout",
     "output_type": "stream",
     "text": [
      "        Date  Close_AAPL  High_AAPL   Low_AAPL  Open_AAPL  Volume_AAPL\n",
      "0 2015-01-02   24.261047  24.729270  23.821672  24.718174    212818400\n",
      "1 2015-01-05   23.577578  24.110154  23.391177  24.030267    257142000\n",
      "2 2015-01-06   23.579798  23.839428  23.218089  23.641931    263188400\n",
      "3 2015-01-07   23.910439  24.010296  23.677436  23.788389    160423600\n",
      "4 2015-01-08   24.829126  24.886823  24.121244  24.238856    237458000\n",
      "Index(['Date', 'Close_AAPL', 'High_AAPL', 'Low_AAPL', 'Open_AAPL',\n",
      "       'Volume_AAPL'],\n",
      "      dtype='object')\n"
     ]
    },
    {
     "name": "stderr",
     "output_type": "stream",
     "text": [
      "\n"
     ]
    }
   ],
   "source": [
    "# Importing Data\n",
    "import yfinance as yf\n",
    "df = yf.download('AAPL', start='2015-01-01', end='2025-10-25')\n",
    "if isinstance(df.columns, pd.MultiIndex):\n",
    "    df.columns = ['_'.join(col).strip() for col in df.columns.values]\n",
    "\n",
    "# Reset index so Date is a column\n",
    "df.reset_index(inplace=True)\n",
    "print(df.head())\n",
    "print(df.columns)"
   ]
  },
  {
   "cell_type": "code",
   "execution_count": 20,
   "id": "c754a630",
   "metadata": {},
   "outputs": [
    {
     "name": "stdout",
     "output_type": "stream",
     "text": [
      "         Date      Close       High        Low       Open     Volume  \\\n",
      "19 2015-01-30  25.998575  26.628789  25.929783  26.273739  334982000   \n",
      "20 2015-02-02  26.324781  26.444611  25.758921  26.196077  250956400   \n",
      "21 2015-02-03  26.329216  26.426854  26.098433  26.295930  207662800   \n",
      "22 2015-02-04  26.531153  26.741965  26.253769  26.295932  280598800   \n",
      "23 2015-02-05  26.720516  26.785123  26.566796  26.738338  168984800   \n",
      "\n",
      "    Daily_Change       MA_5      MA_20  \n",
      "19     -1.463416  25.457568  24.552078  \n",
      "20      1.254708  25.702997  24.655265  \n",
      "21      0.016846  26.125063  24.792847  \n",
      "22      0.766968  26.313684  24.940415  \n",
      "23      0.713740  26.380848  25.080918  \n"
     ]
    }
   ],
   "source": [
    "# Test\n",
    "# Printing first 5 rows of cleaned data\n",
    "df_cleaned = clean_stock_data(df)\n",
    "print(df_cleaned.head())"
   ]
  },
  {
   "cell_type": "markdown",
   "id": "8a61c269-648d-4a2e-a1af-f07d6f0dc929",
   "metadata": {},
   "source": [
    "## Part 3:\n",
    "(2\\%) Builds at least two visualizations (graphs/plots) from the data which help to understand or answer the questions of interest. These visualizations will be graded based on how much information they can effectively communicate to readers. Please make sure your visualization are sufficiently distinct from each other."
   ]
  },
  {
   "cell_type": "code",
   "execution_count": 21,
   "id": "6983d89d",
   "metadata": {},
   "outputs": [],
   "source": [
    "# importing necessary libraries\n",
    "import matplotlib.pyplot as plt\n",
    "import seaborn as sns\n",
    "import numpy as np\n",
    "import plotly.express as px"
   ]
  },
  {
   "cell_type": "markdown",
   "id": "4a0f184b",
   "metadata": {},
   "source": [
    "\n",
    "# Only plots need to be made\n"
   ]
  },
  {
   "cell_type": "markdown",
   "id": "b5b36d28",
   "metadata": {},
   "source": []
  }
 ],
 "metadata": {
  "kernelspec": {
   "display_name": "env1",
   "language": "python",
   "name": "python3"
  },
  "language_info": {
   "codemirror_mode": {
    "name": "ipython",
    "version": 3
   },
   "file_extension": ".py",
   "mimetype": "text/x-python",
   "name": "python",
   "nbconvert_exporter": "python",
   "pygments_lexer": "ipython3",
   "version": "3.13.5"
  }
 },
 "nbformat": 4,
 "nbformat_minor": 5
}
