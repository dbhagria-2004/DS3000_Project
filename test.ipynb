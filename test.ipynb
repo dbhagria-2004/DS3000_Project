{
 "cells": [
  {
   "cell_type": "markdown",
   "id": "a6b903fc",
   "metadata": {},
   "source": [
    "This is a test file"
   ]
  },
  {
   "cell_type": "markdown",
   "id": "10e009ce",
   "metadata": {},
   "source": [
    "coding in my branch "
   ]
  }
 ],
 "metadata": {
  "language_info": {
   "name": "python"
  }
 },
 "nbformat": 4,
 "nbformat_minor": 5
}
